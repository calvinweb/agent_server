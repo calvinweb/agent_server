import yaml



table=yaml.load(open("./intent_table.yaml").read(),yaml.FullLoader)


for i in table.keys():
    item=table[i]
    if not item['supported'] or i=="HassNevermind" :
        continue
    slots=""
    for slot_key in item['slots']:
        slot=item['slots'][slot_key]
        
        if not (slot['required'] or slot_key == "name" ):
            continue
        slots+=f"""        {slot_key}: {slot['description']}\n"""
        
    print(
        f"""{i}:
    Description: {item['description']}
    Slots:
{slots}
        """)






